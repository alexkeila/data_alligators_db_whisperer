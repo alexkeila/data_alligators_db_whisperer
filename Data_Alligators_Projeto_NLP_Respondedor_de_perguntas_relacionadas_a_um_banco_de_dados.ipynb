{
  "nbformat": 4,
  "nbformat_minor": 0,
  "metadata": {
    "colab": {
      "provenance": [],
      "collapsed_sections": [
        "fRaq9XkUNPDI"
      ]
    },
    "kernelspec": {
      "name": "python3",
      "display_name": "Python 3"
    },
    "language_info": {
      "name": "python"
    }
  },
  "cells": [
    {
      "cell_type": "markdown",
      "source": [
        "## Instalações (RODAR APENAS UMA VEZ ESSA PARTE):"
      ],
      "metadata": {
        "id": "fRaq9XkUNPDI"
      }
    },
    {
      "cell_type": "code",
      "source": [
        "#!mv * python\n",
        "\n",
        "!zip -r /content/file.zip /content/python"
      ],
      "metadata": {
        "id": "AMc-ufTXvKBB"
      },
      "execution_count": null,
      "outputs": []
    },
    {
      "cell_type": "code",
      "source": [
        "!pip install openai --target ."
      ],
      "metadata": {
        "id": "Or99teriu3C6"
      },
      "execution_count": null,
      "outputs": []
    },
    {
      "cell_type": "code",
      "source": [
        "!pip install openai\n",
        "!pip install pymysql\n",
        "!pip install mysql-connector"
      ],
      "metadata": {
        "id": "RwZc1LVeYEo0"
      },
      "execution_count": null,
      "outputs": []
    },
    {
      "cell_type": "markdown",
      "source": [
        "## Pré-processamento:"
      ],
      "metadata": {
        "id": "-4FuEFjwNtVW"
      }
    },
    {
      "cell_type": "code",
      "source": [
        "import pandas as pd\n",
        "\n",
        "import pymysql\n",
        "import sqlalchemy\n",
        "\n",
        "import openai"
      ],
      "metadata": {
        "id": "Uo1Chw6dYFep"
      },
      "execution_count": null,
      "outputs": []
    },
    {
      "cell_type": "code",
      "execution_count": null,
      "metadata": {
        "id": "6QBU92D-X-66"
      },
      "outputs": [],
      "source": [
        "api_key = '###'"
      ]
    },
    {
      "cell_type": "code",
      "source": [
        "database_username = '###'\n",
        "database_password = '###'\n",
        "database_ip       = '###'\n",
        "database_name     = '###'\n",
        "database_connection = sqlalchemy.create_engine('mysql+mysqlconnector://{0}:{1}@{2}/{3}'.\n",
        "                                            format(database_username, database_password,\n",
        "                                                    database_ip, database_name))"
      ],
      "metadata": {
        "id": "7mSx4h9KNiZS"
      },
      "execution_count": null,
      "outputs": []
    },
    {
      "cell_type": "code",
      "source": [
        "prompt = \"\"\"\n",
        "### propriedades das tabelas em mysql:\n",
        "#\n",
        "# 'CREATE TABLE `pedidos` (\\n  `cnpj` bigint DEFAULT NULL,\\n  `centroDeCusto` text,\\n  `codFranqueador` int DEFAULT NULL,\\n  `codLoja` int DEFAULT NULL,\\n  `datMovimento` text,\\n  `dataVenda` text,\\n  `controle` int DEFAULT NULL,\\n  `controlePdv` int DEFAULT NULL,\\n  `tipoVenda` int DEFAULT NULL,\\n  `numPdv` int DEFAULT NULL,\\n  `numAbertura` int DEFAULT NULL,\\n  `cancelada` text,\\n  `valTroco` text,\\n  `valDesconto_x` double DEFAULT NULL,\\n  `valDescontoItem` double DEFAULT NULL,\\n  `valAcrescimo` double DEFAULT NULL,\\n  `valProduto` double DEFAULT NULL,\\n  `valLiquido` double DEFAULT NULL,\\n  `docConsumidor` bigint DEFAULT NULL,\\n  `docConsumidorDesconto` text,\\n  `possuiCpfCnpj` text,\\n  `mesa` json DEFAULT NULL,\\n  `cartao` json DEFAULT NULL,\\n  `numLancto` int DEFAULT NULL,\\n  `codProduto` int DEFAULT NULL,\\n  `descricaoProduto` text,\\n  `codBarras` text,\\n  `unidadeProduto` text,\\n  `quantidade` int DEFAULT NULL,\\n  `valUnitario` text,\\n  `valTotal` text,\\n  `valDesconto_y` int DEFAULT NULL,\\n  `datHoraLancamento` text,\\n  `cancelado` text,\\n  `numLanctoItemPrincipal` int DEFAULT NULL,\\n  `posicaoClienteMesa` int DEFAULT NULL,\\n  `composicaoCodigo` int DEFAULT NULL,\\n  `codGrupoCombinacao` int DEFAULT NULL,\\n  `nomUsuarioVenda` text,\\n  `nomUsuarioCancelamento` text,\\n  `momentoCancelamento` text,\\n  `ordemSefaz` int DEFAULT NULL,\\n  `enviadoParaSefaz` text,\\n  `reshop` text,\\n  `composicao.tipo` text,\\n  `composicao.descricao` text,\\n  `fiscal.codCfop` int DEFAULT NULL,\\n  `fiscal.cstCofins` text,\\n  `fiscal.codOrigemCst` int DEFAULT NULL,\\n  `fiscal.codCstIcms` text,\\n  `fiscal.valorDescontoItem` int DEFAULT NULL,\\n  `fiscal.codModalidadeIcms` int DEFAULT NULL,\\n  `fiscal.codCstIpi` text,\\n  `fiscal.codCstPis` text,\\n  `fiscal.codCsosn` int DEFAULT NULL,\\n  `fiscal.codModalidadeIcmsSubs` int DEFAULT NULL,\\n  `fiscal.perIcms` int DEFAULT NULL,\\n  `fiscal.perReducaoBaseCalculoIcms` int DEFAULT NULL,\\n  `fiscal.perIcmsSubs` int DEFAULT NULL,\\n  `fiscal.perReducaoBaseCalculoIcmsSubs` int DEFAULT NULL,\\n  `fiscal.perPis` int DEFAULT NULL,\\n  `fiscal.perCofins` int DEFAULT NULL,\\n  `fiscal.perIpi` int DEFAULT NULL,\\n  `fiscal.perSimplesNacional` int DEFAULT NULL,\\n  `fiscal.valBaseCalculoIcms` text,\\n  `fiscal.valBaseCalculoIcmsSubs` int DEFAULT NULL,\\n  `fiscal.valBaseCalculoIcmsRetidoFonte` int DEFAULT NULL,\\n  `fiscal.valBaseCalculoPis` text,\\n  `fiscal.valBaseCalculoCofins` text,\\n  `fiscal.valBaseCalculoIpi` text,\\n  `fiscal.valIcms` int DEFAULT NULL,\\n  `fiscal.valIcmsSubs` int DEFAULT NULL,\\n  `fiscal.valIcmsRetidoFonte` int DEFAULT NULL,\\n  `fiscal.valIcmsSimplesNacional` int DEFAULT NULL,\\n  `fiscal.valPis` int DEFAULT NULL,\\n  `fiscal.valCofins` int DEFAULT NULL,\\n  `fiscal.valIpi` int DEFAULT NULL,\\n  `fiscal.valFrete` int DEFAULT NULL,\\n  `fiscal.valSeguro` int DEFAULT NULL,\\n  `fiscal.valOutrasDespesas` int DEFAULT NULL,\\n  `fiscal.codItemEstoque` int DEFAULT NULL,\\n  `fiscal.ncm` text,\\n  `fiscal.cest` int DEFAULT NULL,\\n  `numPedido` int DEFAULT NULL,\\n  `codCliente` int DEFAULT NULL,\\n  `codPrePedido` text,\\n  `horAbertura` text,\\n  `horEnvioProducao` text,\\n  `horExpedicao` text,\\n  `horFechamento` text,\\n  `valTaxaEntrega` double DEFAULT NULL,\\n  `valTaxaEntregaAdicional` double DEFAULT NULL,\\n  `valTaxaEntregaAlterada` text,\\n  `importadoCallCenter` text,\\n  `horAgendamento` text,\\n  `justificativaCancelamento` text,\\n  `observacao` text,\\n  `sequencia` int DEFAULT NULL,\\n  `codFormaPagamento` int DEFAULT NULL,\\n  `valor` double DEFAULT NULL,\\n  `tefSequencia` int DEFAULT NULL,\\n  `tefData` text,\\n  `tefNsu` int DEFAULT NULL,\\n  `tefAutorizacao` text,\\n  `tefQtdeParcela` int DEFAULT NULL,\\n  `receita` text,\\n  `bandeira` text,\\n  `formaPgto` text,\\n  `codigoBandeiraNfce` int DEFAULT NULL,\\n  `codigoFinalizadorNfce` int DEFAULT NULL,\\n  KEY `idx_relatorio_vendas_cancelada_cancelado` (`cancelada`(10),`cancelado`(10))\\n) ENGINE=InnoDB DEFAULT CHARSET=utf8mb4 COLLATE=utf8mb4_0900_ai_ci'\n",
        "# Use a view chamada pedidos para fazer as queries relacionadas a pedidos.\n",
        "# Coluna chamada controle é o identificador único de cada pedido, então para contabilizar os pedidos, considere isso para não contar o mesmo pedido mais de uma vez.\n",
        "# a coluna 'quantidade' é o número de unidades que foi vendido daquele determinado produto.\n",
        "\n",
        "### faça uma query para responder à seguinte pergunta:\n",
        "# qual foi o dia com mais pedidos na loja 1 em março de 2023?\n",
        "\n",
        "# Coluna de data chama datMovimento\n",
        "# Não se esqueça que a coluna 'controle' é um id único de cada pedido, então cuidado para não contar mais de uma vez um pedido (dica: use o distinct para tratar isso).\n",
        "# Hoje é dia 04/04/2023.\n",
        "# Estamos no ano de 2023.\n",
        "SELECT\n",
        "\"\"\""
      ],
      "metadata": {
        "id": "YR0fVpjJYTLR"
      },
      "execution_count": null,
      "outputs": []
    },
    {
      "cell_type": "code",
      "source": [
        "# APRENDER UM BANCO DE DADOS NOVO PEGANDO OS NOMES DAS TABELAS E COLUNAS\n",
        "# CRIAR ASSUNTOS DAS PERGUNTAS PARA DIRECIONAR QUAIS SCHEMAS PEGAR NO BANCO DE DADOS\n",
        "# FAZER ELE MANTER O CONTEXTO ENTRE PERGUNTAS PARA APRENDER COM O QUE O USUARIO PERGUNTA\n",
        "\n",
        "# INCLUIR ETAPA DE RECEBER UM AUDIO, CONVERTER PARA TEXTO E PASSAR PARA A API\n",
        "# IMPEDIR QUE FACA QUERIES DE UPDATE, INSERT E DELETE (USUARIO DO SISTEMA SOH PODE TER PERMISSAO DE LEITURA)\n",
        "# PENSAR EM DAR DIFERENTES RETORNOS\n",
        "\n",
        "# BOLAR UMA CARA PARA O APP OU SISTEMA WEB"
      ],
      "metadata": {
        "id": "QGor-qeUDP6y"
      },
      "execution_count": null,
      "outputs": []
    },
    {
      "cell_type": "code",
      "source": [
        "# NAO DEU CERTO!!!!\n",
        "#prompt = \"\"\"\n",
        "## e na loja de 'Pinheiros'?\n",
        "#SELECT\n",
        "#\"\"\""
      ],
      "metadata": {
        "id": "juE8qMvicFYi"
      },
      "execution_count": null,
      "outputs": []
    },
    {
      "cell_type": "code",
      "source": [
        "# faça uma query para calcular o total de pedidos da loja 1 no mês de fevereiro\n",
        "# faça uma query para descobrir qual a loja que teve mais pedidos em dezembro do ano 2022.\n",
        "# faça uma query para descobrir qual é o produto mais vendido em cada loja no ano de 2023?\n",
        "# Retorne o nome da loja (não precisa do código da loja), apenas o nome do produto mais vendido e a quantidade de unidades vendidas desse produto. Liste todas as lojas.\n",
        "# qual produto é mais vendido às 12h?\n",
        "\n",
        "# quantas unidades do produto 'CHOCOLOVER' foram vendidos na loja 'Pinheiros' no mês de janeiro de 2023?\n",
        "# quantas unidades do produto 'SIMPSONS' foram vendidas nos últimos 30 dias?\n",
        "\n",
        "# NAO DEU CERTO!!\n",
        "# qual o dia de maior venda por loja?"
      ],
      "metadata": {
        "id": "4plasmdyUGDW"
      },
      "execution_count": null,
      "outputs": []
    },
    {
      "cell_type": "code",
      "source": [
        "openai.api_key = api_key\n",
        "\n",
        "response = openai.Completion.create(\n",
        "  model=\"text-davinci-003\",  # mais rapido: code-cushman-001\n",
        "  prompt=prompt,\n",
        "  temperature=0,\n",
        "  max_tokens=300,\n",
        "  top_p=1.0,\n",
        "  frequency_penalty=0.0,\n",
        "  presence_penalty=0.0,\n",
        "  stop=[\"#\", \";\"]\n",
        ")"
      ],
      "metadata": {
        "id": "kR9_ClLuYMTh"
      },
      "execution_count": null,
      "outputs": []
    },
    {
      "cell_type": "code",
      "source": [
        "response"
      ],
      "metadata": {
        "colab": {
          "base_uri": "https://localhost:8080/"
        },
        "id": "-6PLdfrbQvCU",
        "outputId": "504d5071-6a65-44c0-d5d9-36257999e63c"
      },
      "execution_count": null,
      "outputs": [
        {
          "output_type": "execute_result",
          "data": {
            "text/plain": [
              "<OpenAIObject text_completion id=cmpl-71iMyM1aAqdWrlFuzfbMyeeN2dVV3 at 0x7f6c6c371360> JSON: {\n",
              "  \"choices\": [\n",
              "    {\n",
              "      \"finish_reason\": \"stop\",\n",
              "      \"index\": 0,\n",
              "      \"logprobs\": null,\n",
              "      \"text\": \"  DATE_FORMAT(datMovimento, '%d/%m/%Y') AS data,\\n  COUNT(DISTINCT controle) AS pedidos\\nFROM pedidos\\nWHERE YEAR(datMovimento) = 2023\\n  AND MONTH(datMovimento) = 3\\n  AND codLoja = 1\\nGROUP BY data\\nORDER BY pedidos DESC\\nLIMIT 1\"\n",
              "    }\n",
              "  ],\n",
              "  \"created\": 1680643240,\n",
              "  \"id\": \"cmpl-71iMyM1aAqdWrlFuzfbMyeeN2dVV3\",\n",
              "  \"model\": \"text-davinci-003\",\n",
              "  \"object\": \"text_completion\",\n",
              "  \"usage\": {\n",
              "    \"completion_tokens\": 101,\n",
              "    \"prompt_tokens\": 1902,\n",
              "    \"total_tokens\": 2003\n",
              "  }\n",
              "}"
            ]
          },
          "metadata": {},
          "execution_count": 27
        }
      ]
    },
    {
      "cell_type": "code",
      "source": [
        "query = f'SELECT\\n{response[\"choices\"][0][\"text\"]}'\n",
        "print(query)"
      ],
      "metadata": {
        "id": "BCT-HxUNZwR4",
        "colab": {
          "base_uri": "https://localhost:8080/"
        },
        "outputId": "211d38b2-da27-48cb-8a72-c0b41a6a07fe"
      },
      "execution_count": null,
      "outputs": [
        {
          "output_type": "stream",
          "name": "stdout",
          "text": [
            "SELECT\n",
            "  DATE_FORMAT(datMovimento, '%d/%m/%Y') AS data,\n",
            "  COUNT(DISTINCT controle) AS pedidos\n",
            "FROM pedidos\n",
            "WHERE YEAR(datMovimento) = 2023\n",
            "  AND MONTH(datMovimento) = 3\n",
            "  AND codLoja = 1\n",
            "GROUP BY data\n",
            "ORDER BY pedidos DESC\n",
            "LIMIT 1\n"
          ]
        }
      ]
    },
    {
      "cell_type": "code",
      "source": [
        "pd.read_sql(query, con=database_connection)"
      ],
      "metadata": {
        "id": "5K8x2ZG3abPi",
        "colab": {
          "base_uri": "https://localhost:8080/",
          "height": 81
        },
        "outputId": "801fc2d1-d684-4242-fb44-267aa6b0de14"
      },
      "execution_count": null,
      "outputs": [
        {
          "output_type": "execute_result",
          "data": {
            "text/plain": [
              "         data  pedidos\n",
              "0  08/03/2023       55"
            ],
            "text/html": [
              "\n",
              "  <div id=\"df-8cd99d45-201d-4fbd-97b4-33bc92f27946\">\n",
              "    <div class=\"colab-df-container\">\n",
              "      <div>\n",
              "<style scoped>\n",
              "    .dataframe tbody tr th:only-of-type {\n",
              "        vertical-align: middle;\n",
              "    }\n",
              "\n",
              "    .dataframe tbody tr th {\n",
              "        vertical-align: top;\n",
              "    }\n",
              "\n",
              "    .dataframe thead th {\n",
              "        text-align: right;\n",
              "    }\n",
              "</style>\n",
              "<table border=\"1\" class=\"dataframe\">\n",
              "  <thead>\n",
              "    <tr style=\"text-align: right;\">\n",
              "      <th></th>\n",
              "      <th>data</th>\n",
              "      <th>pedidos</th>\n",
              "    </tr>\n",
              "  </thead>\n",
              "  <tbody>\n",
              "    <tr>\n",
              "      <th>0</th>\n",
              "      <td>08/03/2023</td>\n",
              "      <td>55</td>\n",
              "    </tr>\n",
              "  </tbody>\n",
              "</table>\n",
              "</div>\n",
              "      <button class=\"colab-df-convert\" onclick=\"convertToInteractive('df-8cd99d45-201d-4fbd-97b4-33bc92f27946')\"\n",
              "              title=\"Convert this dataframe to an interactive table.\"\n",
              "              style=\"display:none;\">\n",
              "        \n",
              "  <svg xmlns=\"http://www.w3.org/2000/svg\" height=\"24px\"viewBox=\"0 0 24 24\"\n",
              "       width=\"24px\">\n",
              "    <path d=\"M0 0h24v24H0V0z\" fill=\"none\"/>\n",
              "    <path d=\"M18.56 5.44l.94 2.06.94-2.06 2.06-.94-2.06-.94-.94-2.06-.94 2.06-2.06.94zm-11 1L8.5 8.5l.94-2.06 2.06-.94-2.06-.94L8.5 2.5l-.94 2.06-2.06.94zm10 10l.94 2.06.94-2.06 2.06-.94-2.06-.94-.94-2.06-.94 2.06-2.06.94z\"/><path d=\"M17.41 7.96l-1.37-1.37c-.4-.4-.92-.59-1.43-.59-.52 0-1.04.2-1.43.59L10.3 9.45l-7.72 7.72c-.78.78-.78 2.05 0 2.83L4 21.41c.39.39.9.59 1.41.59.51 0 1.02-.2 1.41-.59l7.78-7.78 2.81-2.81c.8-.78.8-2.07 0-2.86zM5.41 20L4 18.59l7.72-7.72 1.47 1.35L5.41 20z\"/>\n",
              "  </svg>\n",
              "      </button>\n",
              "      \n",
              "  <style>\n",
              "    .colab-df-container {\n",
              "      display:flex;\n",
              "      flex-wrap:wrap;\n",
              "      gap: 12px;\n",
              "    }\n",
              "\n",
              "    .colab-df-convert {\n",
              "      background-color: #E8F0FE;\n",
              "      border: none;\n",
              "      border-radius: 50%;\n",
              "      cursor: pointer;\n",
              "      display: none;\n",
              "      fill: #1967D2;\n",
              "      height: 32px;\n",
              "      padding: 0 0 0 0;\n",
              "      width: 32px;\n",
              "    }\n",
              "\n",
              "    .colab-df-convert:hover {\n",
              "      background-color: #E2EBFA;\n",
              "      box-shadow: 0px 1px 2px rgba(60, 64, 67, 0.3), 0px 1px 3px 1px rgba(60, 64, 67, 0.15);\n",
              "      fill: #174EA6;\n",
              "    }\n",
              "\n",
              "    [theme=dark] .colab-df-convert {\n",
              "      background-color: #3B4455;\n",
              "      fill: #D2E3FC;\n",
              "    }\n",
              "\n",
              "    [theme=dark] .colab-df-convert:hover {\n",
              "      background-color: #434B5C;\n",
              "      box-shadow: 0px 1px 3px 1px rgba(0, 0, 0, 0.15);\n",
              "      filter: drop-shadow(0px 1px 2px rgba(0, 0, 0, 0.3));\n",
              "      fill: #FFFFFF;\n",
              "    }\n",
              "  </style>\n",
              "\n",
              "      <script>\n",
              "        const buttonEl =\n",
              "          document.querySelector('#df-8cd99d45-201d-4fbd-97b4-33bc92f27946 button.colab-df-convert');\n",
              "        buttonEl.style.display =\n",
              "          google.colab.kernel.accessAllowed ? 'block' : 'none';\n",
              "\n",
              "        async function convertToInteractive(key) {\n",
              "          const element = document.querySelector('#df-8cd99d45-201d-4fbd-97b4-33bc92f27946');\n",
              "          const dataTable =\n",
              "            await google.colab.kernel.invokeFunction('convertToInteractive',\n",
              "                                                     [key], {});\n",
              "          if (!dataTable) return;\n",
              "\n",
              "          const docLinkHtml = 'Like what you see? Visit the ' +\n",
              "            '<a target=\"_blank\" href=https://colab.research.google.com/notebooks/data_table.ipynb>data table notebook</a>'\n",
              "            + ' to learn more about interactive tables.';\n",
              "          element.innerHTML = '';\n",
              "          dataTable['output_type'] = 'display_data';\n",
              "          await google.colab.output.renderOutput(dataTable, element);\n",
              "          const docLink = document.createElement('div');\n",
              "          docLink.innerHTML = docLinkHtml;\n",
              "          element.appendChild(docLink);\n",
              "        }\n",
              "      </script>\n",
              "    </div>\n",
              "  </div>\n",
              "  "
            ]
          },
          "metadata": {},
          "execution_count": 29
        }
      ]
    },
    {
      "cell_type": "code",
      "source": [],
      "metadata": {
        "id": "8pA6vGzUY-yC"
      },
      "execution_count": null,
      "outputs": []
    }
  ]
}